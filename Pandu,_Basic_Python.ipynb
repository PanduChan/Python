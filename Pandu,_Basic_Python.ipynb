{
  "cells": [
    {
      "cell_type": "markdown",
      "metadata": {
        "id": "vto2Zu34n2KV"
      },
      "source": [
        "<a id=\"1\"></a>\n",
        "<div style=\"padding:20px;\n",
        "            color:#F0F3FF;\n",
        "            margin:10;\n",
        "            font-size:200%;\n",
        "            text-align:left;\n",
        "            display:fill;\n",
        "            border-radius:15px;\n",
        "            background-color:#211951;\n",
        "            overflow:hidden;\n",
        "            font-weight:900\">\n",
        "            <span style='color:#15F5BA'></span>Basic Python\n",
        "</div>\n",
        "<br>Author : <i>Pandu Giswantoro Abhi Wiguno</i>"
      ]
    },
    {
      "cell_type": "markdown",
      "metadata": {
        "id": "oLONXLHBn2KY"
      },
      "source": [
        "# <b>A. <span style='color:#E1B12D'>Comments</span></b>\n",
        "\n",
        "Comments dalam Python adalah teks yang ditambahkan ke dalam kode program untuk memberikan penjelasan atau catatan, tetapi tidak akan dieksekusi oleh interpreter Python. Comments berguna untuk meningkatkan keterbacaan kode dan membantu pengembang lain (atau diri sendiri di masa depan) memahami maksud dan fungsi dari bagian tertentu dari kode."
      ]
    },
    {
      "cell_type": "markdown",
      "metadata": {
        "id": "cLES77zEn2KY"
      },
      "source": [
        "## <b>A.1. <span style='color:#0B2F9F'>Single Line Comment</span></b>"
      ]
    },
    {
      "cell_type": "code",
      "execution_count": null,
      "metadata": {
        "id": "0u2JvpYsn2KZ"
      },
      "outputs": [],
      "source": [
        "# Ini adalah komen"
      ]
    },
    {
      "cell_type": "markdown",
      "metadata": {
        "id": "kt5fgtzZn2KZ"
      },
      "source": [
        "<a id=\"A.2\"></a>\n",
        "## <b>A.2. <span style='color:#0B2F9F'>Multi Line Comment</span></b>"
      ]
    },
    {
      "cell_type": "code",
      "execution_count": null,
      "metadata": {
        "id": "JpSUeG4Rn2KZ"
      },
      "outputs": [],
      "source": [
        "\"\"\"\n",
        "  Ini adalah komentar\n",
        "  banyak baris\n",
        "  serah lo mau nulis apa\n",
        "\"\"\""
      ]
    },
    {
      "cell_type": "markdown",
      "metadata": {
        "id": "7tpyb1qen2KZ"
      },
      "source": [
        "<a id=\"B\"></a>\n",
        "# <b>B. <span style='color:#E1B12D'>Variabel & Tipe Data</span></b>\n",
        "\n",
        "Variabel dalam Python adalah tempat untuk menyimpan data. Mereka berfungsi sebagai wadah yang memungkinkan kamu untuk menyimpan, mengakses, dan memanipulasi nilai sepanjang program."
      ]
    },
    {
      "cell_type": "code",
      "source": [
        "# Membuat variabel nama\n",
        "nama_customer = 'Ji Chang Wook'"
      ],
      "metadata": {
        "id": "xXOgaVLSragb"
      },
      "execution_count": null,
      "outputs": []
    },
    {
      "cell_type": "code",
      "source": [
        "# Membuat variabel pi untuk menyimpan konstanta\n",
        "pi = 3.14159"
      ],
      "metadata": {
        "id": "nMnNFxCSsEKM"
      },
      "execution_count": null,
      "outputs": []
    },
    {
      "cell_type": "code",
      "source": [
        "# Membuat variabel nama\n",
        "nama_customer = 'Ji Chang Wook'\n",
        "\n",
        "nama_customer = 1\n",
        "\n",
        "nama_customer = 'Ju Man Ji'\n",
        "\n",
        "print(nama_customer)"
      ],
      "metadata": {
        "colab": {
          "base_uri": "https://localhost:8080/"
        },
        "id": "Y_Hqqf2nvZlH",
        "outputId": "3d05b9d7-af7a-4095-95ec-72079af89927"
      },
      "execution_count": null,
      "outputs": [
        {
          "output_type": "stream",
          "name": "stdout",
          "text": [
            "Ju Man Ji\n"
          ]
        }
      ]
    },
    {
      "cell_type": "markdown",
      "source": [
        "## <b>B.0. <span style='color:#0B2F9F'>Menampilkan Variabel</span></b>"
      ],
      "metadata": {
        "id": "lyxYJHtqszbL"
      }
    },
    {
      "cell_type": "code",
      "source": [
        "print(\"Baru Belajar Python nih bos, senggol!\")"
      ],
      "metadata": {
        "colab": {
          "base_uri": "https://localhost:8080/"
        },
        "id": "yWM5rjnhs5jF",
        "outputId": "9042fe10-7aa4-4021-b5e6-fd51e3fdd36f"
      },
      "execution_count": null,
      "outputs": [
        {
          "output_type": "stream",
          "name": "stdout",
          "text": [
            "Baru Belajar Python nih bos, senggol!\n"
          ]
        }
      ]
    },
    {
      "cell_type": "code",
      "source": [
        "print(f\"Nama customer = {nama_customer}\")"
      ],
      "metadata": {
        "colab": {
          "base_uri": "https://localhost:8080/"
        },
        "id": "K4shgNzftZCd",
        "outputId": "37c3af6c-8855-4d3e-ff88-d28318d82282"
      },
      "execution_count": null,
      "outputs": [
        {
          "output_type": "stream",
          "name": "stdout",
          "text": [
            "Nama customer = Ji Chang Wook\n"
          ]
        }
      ]
    },
    {
      "cell_type": "code",
      "source": [
        "print(\"Nama Customer = {nama_customer}\")"
      ],
      "metadata": {
        "colab": {
          "base_uri": "https://localhost:8080/"
        },
        "id": "SC90RgGotxCr",
        "outputId": "4608e494-bf4c-4579-8d61-d432218805e8"
      },
      "execution_count": null,
      "outputs": [
        {
          "output_type": "stream",
          "name": "stdout",
          "text": [
            "Nama Customer = {nama_customer}\n"
          ]
        }
      ]
    },
    {
      "cell_type": "code",
      "source": [
        "print(\"Nama customer\", nama_customer)"
      ],
      "metadata": {
        "colab": {
          "base_uri": "https://localhost:8080/"
        },
        "id": "JwtAyvYNunDa",
        "outputId": "13b51fba-5561-4f84-c152-a39133edfb28"
      },
      "execution_count": null,
      "outputs": [
        {
          "output_type": "stream",
          "name": "stdout",
          "text": [
            "Nama customer Ji Chang Wook\n"
          ]
        }
      ]
    },
    {
      "cell_type": "markdown",
      "metadata": {
        "id": "tz48MtdGn2KZ"
      },
      "source": [
        "<a id=\"B.1\"></a>\n",
        "## <b>B.1. <span style='color:#0B2F9F'>Aturan Penamaan Variabel</span></b>\n",
        "\n",
        "* Hanya menerima a-z, A-Z, 0-9 dan _\n",
        "* Angka tidak boleh berada didepan\n",
        "* Case Sensitive"
      ]
    },
    {
      "cell_type": "code",
      "execution_count": null,
      "metadata": {
        "id": "fIJElvVdn2Ka"
      },
      "outputs": [],
      "source": [
        "# Aturan 1\n",
        "nama_customer = 'Ju Man Ji'"
      ]
    },
    {
      "cell_type": "code",
      "source": [
        "# Aturan 1\n",
        "MANTAN_1 = None"
      ],
      "metadata": {
        "id": "B2j8zyBFzXBS"
      },
      "execution_count": null,
      "outputs": []
    },
    {
      "cell_type": "code",
      "source": [
        "# Aturan 1\n",
        "Nomor_Identitas = '8171514131'"
      ],
      "metadata": {
        "id": "kwr4mD_5zeRo"
      },
      "execution_count": null,
      "outputs": []
    },
    {
      "cell_type": "code",
      "source": [
        "# Aturan 2\n",
        "1Tujuan1Harapan = 'Sel4ManYa'"
      ],
      "metadata": {
        "colab": {
          "base_uri": "https://localhost:8080/",
          "height": 105
        },
        "id": "pm8P5BJmzkWa",
        "outputId": "4a754b7d-792a-468d-f3e3-a13f77789fa2"
      },
      "execution_count": null,
      "outputs": [
        {
          "output_type": "error",
          "ename": "SyntaxError",
          "evalue": "invalid decimal literal (<ipython-input-24-a8b6cc6cb7c8>, line 2)",
          "traceback": [
            "\u001b[0;36m  File \u001b[0;32m\"<ipython-input-24-a8b6cc6cb7c8>\"\u001b[0;36m, line \u001b[0;32m2\u001b[0m\n\u001b[0;31m    1Tujuan1Harapan = 'Sel4ManYa'\u001b[0m\n\u001b[0m    ^\u001b[0m\n\u001b[0;31mSyntaxError\u001b[0m\u001b[0;31m:\u001b[0m invalid decimal literal\n"
          ]
        }
      ]
    },
    {
      "cell_type": "code",
      "source": [
        "# Aturan 2\n",
        "jum'at = 1"
      ],
      "metadata": {
        "colab": {
          "base_uri": "https://localhost:8080/",
          "height": 105
        },
        "id": "3QaR188x0Inu",
        "outputId": "811b375a-aa5e-4138-e3ec-043f721fdaf5"
      },
      "execution_count": null,
      "outputs": [
        {
          "output_type": "error",
          "ename": "SyntaxError",
          "evalue": "unterminated string literal (detected at line 2) (<ipython-input-26-1dcae34a51ad>, line 2)",
          "traceback": [
            "\u001b[0;36m  File \u001b[0;32m\"<ipython-input-26-1dcae34a51ad>\"\u001b[0;36m, line \u001b[0;32m2\u001b[0m\n\u001b[0;31m    jum'at = 1\u001b[0m\n\u001b[0m       ^\u001b[0m\n\u001b[0;31mSyntaxError\u001b[0m\u001b[0;31m:\u001b[0m unterminated string literal (detected at line 2)\n"
          ]
        }
      ]
    },
    {
      "cell_type": "code",
      "source": [
        "nama kamu = 'Siapa'"
      ],
      "metadata": {
        "colab": {
          "base_uri": "https://localhost:8080/",
          "height": 105
        },
        "id": "xXaB7KaD0Xe-",
        "outputId": "f260f917-d2c9-4514-b946-ca627d4f98e0"
      },
      "execution_count": null,
      "outputs": [
        {
          "output_type": "error",
          "ename": "SyntaxError",
          "evalue": "invalid syntax (<ipython-input-27-e4d013a20cfe>, line 1)",
          "traceback": [
            "\u001b[0;36m  File \u001b[0;32m\"<ipython-input-27-e4d013a20cfe>\"\u001b[0;36m, line \u001b[0;32m1\u001b[0m\n\u001b[0;31m    nama kamu = 'Siapa'\u001b[0m\n\u001b[0m         ^\u001b[0m\n\u001b[0;31mSyntaxError\u001b[0m\u001b[0;31m:\u001b[0m invalid syntax\n"
          ]
        }
      ]
    },
    {
      "cell_type": "code",
      "source": [
        "# Aturan 3\n",
        "nama_customer = 'Ju Man Ji'\n",
        "nama_customeR = 'Ju Min Ten'\n",
        "\n",
        "print(nama_customer)"
      ],
      "metadata": {
        "colab": {
          "base_uri": "https://localhost:8080/"
        },
        "id": "Vp724cGX0ewd",
        "outputId": "4b222da9-f4e0-4c95-a314-1385a4efbaaa"
      },
      "execution_count": null,
      "outputs": [
        {
          "output_type": "stream",
          "name": "stdout",
          "text": [
            "Ju Man Ji\n"
          ]
        }
      ]
    },
    {
      "cell_type": "code",
      "source": [
        "print(nama_customeR)"
      ],
      "metadata": {
        "colab": {
          "base_uri": "https://localhost:8080/"
        },
        "id": "hm1pbfEp0nCS",
        "outputId": "1779451f-7100-4aab-8ab6-df133b7645cd"
      },
      "execution_count": null,
      "outputs": [
        {
          "output_type": "stream",
          "name": "stdout",
          "text": [
            "Ju Min Ten\n"
          ]
        }
      ]
    },
    {
      "cell_type": "code",
      "source": [
        "print(f'nama_customer = {nama_customer} dan nama_customeR = {nama_customeR}')"
      ],
      "metadata": {
        "colab": {
          "base_uri": "https://localhost:8080/"
        },
        "id": "kRHLP3PR1VkH",
        "outputId": "688549cf-51b7-48b1-e319-d71f1794f9f5"
      },
      "execution_count": null,
      "outputs": [
        {
          "output_type": "stream",
          "name": "stdout",
          "text": [
            "nama_customer = Ju Man Ji dan nama_customeR = Ju Min Ten\n"
          ]
        }
      ]
    },
    {
      "cell_type": "code",
      "source": [
        "print('nama_customer =', nama_customer, 'dan nama_customeR =', nama_customeR)"
      ],
      "metadata": {
        "colab": {
          "base_uri": "https://localhost:8080/"
        },
        "id": "lbz2gMg-2MNN",
        "outputId": "e36d50a1-d404-416a-e88d-fdb1ff34ad4c"
      },
      "execution_count": null,
      "outputs": [
        {
          "output_type": "stream",
          "name": "stdout",
          "text": [
            "nama_customer = Ju Man Ji dan nama_customeR = Ju Min Ten\n"
          ]
        }
      ]
    },
    {
      "cell_type": "code",
      "source": [
        "print('nama_customer = {} dan nama_customeR = {}'.format(nama_customer, nama_customeR))"
      ],
      "metadata": {
        "colab": {
          "base_uri": "https://localhost:8080/"
        },
        "id": "R_WUqkJ92e_z",
        "outputId": "c421ed63-96b5-41fd-af2e-43cbadc2d21c"
      },
      "execution_count": null,
      "outputs": [
        {
          "output_type": "stream",
          "name": "stdout",
          "text": [
            "nama_customer = Ju Man Ji dan nama_customeR = Ju Min Ten\n"
          ]
        }
      ]
    },
    {
      "cell_type": "markdown",
      "metadata": {
        "id": "zhXsEad4n2Ka"
      },
      "source": [
        "## <b>B.2. <span style='color:#0B2F9F'>Tipe Data</span></b>\n",
        "\n",
        "<img src=\"https://miro.medium.com/v2/resize:fit:1400/format:webp/1*QfI8H_8HplGa1v9IrrWjBA.png\" width=70%>"
      ]
    },
    {
      "cell_type": "code",
      "execution_count": null,
      "metadata": {
        "colab": {
          "base_uri": "https://localhost:8080/"
        },
        "id": "0KwlCz9Gn2Ka",
        "outputId": "94089d26-ed34-4ac5-acce-31d8fca79a3f"
      },
      "outputs": [
        {
          "output_type": "stream",
          "name": "stdout",
          "text": [
            "Nilai pi = 3.14159 dengan tipe data <class 'float'>\n"
          ]
        }
      ],
      "source": [
        "# Membuat variabel pi untuk menyimpan konstanta\n",
        "pi = 3.14159\n",
        "\n",
        "print(f'Nilai pi = {pi} dengan tipe data {type(pi)}')"
      ]
    },
    {
      "cell_type": "code",
      "source": [
        "type(pi)"
      ],
      "metadata": {
        "colab": {
          "base_uri": "https://localhost:8080/"
        },
        "id": "eXRXYVbW4vUF",
        "outputId": "6af3089a-0d1c-46ae-e0df-7b80eccfc4d5"
      },
      "execution_count": null,
      "outputs": [
        {
          "output_type": "execute_result",
          "data": {
            "text/plain": [
              "float"
            ]
          },
          "metadata": {},
          "execution_count": 39
        }
      ]
    },
    {
      "cell_type": "code",
      "source": [
        "# Membuat variabel golden_ratio untuk menyimpan konstanta\n",
        "golden_ratio = '1.61803'\n",
        "\n",
        "print(f'Nilai golden_ratio = {golden_ratio} dengan tipe data {type(golden_ratio)}')"
      ],
      "metadata": {
        "colab": {
          "base_uri": "https://localhost:8080/"
        },
        "id": "m4KeRc1o4_T1",
        "outputId": "0ec39b64-3519-49a9-ba38-d52d9fa3e648"
      },
      "execution_count": null,
      "outputs": [
        {
          "output_type": "execute_result",
          "data": {
            "text/plain": [
              "float"
            ]
          },
          "metadata": {},
          "execution_count": 41
        }
      ]
    },
    {
      "cell_type": "code",
      "source": [
        "saldo = 1.690.000\n",
        "\n",
        "type(saldo)"
      ],
      "metadata": {
        "colab": {
          "base_uri": "https://localhost:8080/",
          "height": 105
        },
        "id": "iNs5AiqG5mVJ",
        "outputId": "d6db6930-b875-452f-8d4a-32024106bf57"
      },
      "execution_count": null,
      "outputs": [
        {
          "output_type": "error",
          "ename": "SyntaxError",
          "evalue": "invalid syntax (<ipython-input-44-3c6db68d1c2f>, line 1)",
          "traceback": [
            "\u001b[0;36m  File \u001b[0;32m\"<ipython-input-44-3c6db68d1c2f>\"\u001b[0;36m, line \u001b[0;32m1\u001b[0m\n\u001b[0;31m    saldo = 1.690.000\u001b[0m\n\u001b[0m                 ^\u001b[0m\n\u001b[0;31mSyntaxError\u001b[0m\u001b[0;31m:\u001b[0m invalid syntax\n"
          ]
        }
      ]
    },
    {
      "cell_type": "code",
      "source": [
        "saldo = 16900000\n",
        "\n",
        "# Bagaimana caranya ngeprint saldo tapi pakai pembatas ribuan?\n",
        "print(f'{saldo}')"
      ],
      "metadata": {
        "id": "pUBz9XET7WhC"
      },
      "execution_count": null,
      "outputs": []
    },
    {
      "cell_type": "markdown",
      "metadata": {
        "id": "bALgkiTTn2Ka"
      },
      "source": [
        "<a id=\"C\"></a>\n",
        "# <b>C. <span style='color:#E1B12D'>Operator</span></b>"
      ]
    },
    {
      "cell_type": "markdown",
      "metadata": {
        "id": "8la5W1Dun2Ka"
      },
      "source": [
        "## <b>C.1. <span style='color:#0B2F9F'>Operator Aritmetik</span></b>\n",
        "\n",
        "<img src=\"https://www.devopsschool.com/blog/wp-content/uploads/2020/08/arithmetic-operation-in-python.png\" width=70%>"
      ]
    },
    {
      "cell_type": "code",
      "execution_count": null,
      "metadata": {
        "colab": {
          "base_uri": "https://localhost:8080/"
        },
        "id": "4L_0lZz0n2Ka",
        "outputId": "c0113824-5b5c-4833-83e7-6331fd0893f2"
      },
      "outputs": [
        {
          "output_type": "execute_result",
          "data": {
            "text/plain": [
              "6"
            ]
          },
          "metadata": {},
          "execution_count": 45
        }
      ],
      "source": [
        "# Modulus\n",
        "13 % 7"
      ]
    },
    {
      "cell_type": "code",
      "source": [
        "# Exponent\n",
        "5 ** 3"
      ],
      "metadata": {
        "colab": {
          "base_uri": "https://localhost:8080/"
        },
        "id": "ZnBkyJDh8Y1-",
        "outputId": "bc34ad23-19c1-4972-c136-7c1e5f49f4b5"
      },
      "execution_count": null,
      "outputs": [
        {
          "output_type": "execute_result",
          "data": {
            "text/plain": [
              "125"
            ]
          },
          "metadata": {},
          "execution_count": 46
        }
      ]
    },
    {
      "cell_type": "code",
      "source": [
        "# Floor division\n",
        "13 // 7"
      ],
      "metadata": {
        "colab": {
          "base_uri": "https://localhost:8080/"
        },
        "id": "3NRa6qX88tlj",
        "outputId": "8efc1aab-aa9a-4d62-d71f-903e57cea653"
      },
      "execution_count": null,
      "outputs": [
        {
          "output_type": "execute_result",
          "data": {
            "text/plain": [
              "1"
            ]
          },
          "metadata": {},
          "execution_count": 47
        }
      ]
    },
    {
      "cell_type": "markdown",
      "metadata": {
        "id": "86kdHpnwn2Ka"
      },
      "source": [
        "## <b>C.2. <span style='color:#0B2F9F'>Operator Pembanding</span></b>\n",
        "\n",
        "<img src=\"https://www.devopsschool.com/blog/wp-content/uploads/2020/08/relational-operator-in-python.png\" width=70%>"
      ]
    },
    {
      "cell_type": "code",
      "execution_count": null,
      "metadata": {
        "colab": {
          "base_uri": "https://localhost:8080/"
        },
        "id": "bTqjW0rpn2Kb",
        "outputId": "c4cbe5ec-9ac4-4d7d-a192-517ef590830e"
      },
      "outputs": [
        {
          "output_type": "execute_result",
          "data": {
            "text/plain": [
              "True"
            ]
          },
          "metadata": {},
          "execution_count": 48
        }
      ],
      "source": [
        "3 > 2"
      ]
    },
    {
      "cell_type": "code",
      "source": [
        "8 <= 8 # 8 < 8 atau 8 = 8"
      ],
      "metadata": {
        "colab": {
          "base_uri": "https://localhost:8080/"
        },
        "id": "a7iBZUxn9ysY",
        "outputId": "1637d36e-6b5d-4cb5-fe49-9e847d2e62a6"
      },
      "execution_count": null,
      "outputs": [
        {
          "output_type": "execute_result",
          "data": {
            "text/plain": [
              "True"
            ]
          },
          "metadata": {},
          "execution_count": 49
        }
      ]
    },
    {
      "cell_type": "code",
      "source": [
        "8 < 8"
      ],
      "metadata": {
        "colab": {
          "base_uri": "https://localhost:8080/"
        },
        "id": "r0zAqzCJ92kT",
        "outputId": "b29aced1-ab0b-419a-8381-5165bec84886"
      },
      "execution_count": null,
      "outputs": [
        {
          "output_type": "execute_result",
          "data": {
            "text/plain": [
              "False"
            ]
          },
          "metadata": {},
          "execution_count": 50
        }
      ]
    },
    {
      "cell_type": "markdown",
      "metadata": {
        "id": "Lv3FBllYn2Kb"
      },
      "source": [
        "## <b>C.3. <span style='color:#0B2F9F'>Operator Logika</span></b>\n",
        "\n",
        "<img src=\"https://miro.medium.com/v2/resize:fit:1400/1*AZznQVcR1IuYIOQKLLymJw.png\" width=70%>"
      ]
    },
    {
      "cell_type": "code",
      "execution_count": null,
      "metadata": {
        "colab": {
          "base_uri": "https://localhost:8080/"
        },
        "id": "-eg6uP8tn2Kb",
        "outputId": "29624c8b-5eaf-454f-d1c9-d7d598fed45f"
      },
      "outputs": [
        {
          "output_type": "stream",
          "name": "stdout",
          "text": [
            "False\n"
          ]
        }
      ],
      "source": [
        "pernyataan1 = (3 < 5) # True\n",
        "pernyataan2 = (6 >= 7) # False\n",
        "\n",
        "print(pernyataan1 & pernyataan2) # True AND False"
      ]
    },
    {
      "cell_type": "code",
      "source": [
        "pernyataan1 = (3 < 5) # True\n",
        "pernyataan2 = (6 >= 7) # False\n",
        "\n",
        "print(pernyataan1 | pernyataan2) # True OR False"
      ],
      "metadata": {
        "colab": {
          "base_uri": "https://localhost:8080/"
        },
        "id": "tMLAxWHV_ReE",
        "outputId": "e9814e02-df12-440c-ffab-c64dc17c95ac"
      },
      "execution_count": null,
      "outputs": [
        {
          "output_type": "stream",
          "name": "stdout",
          "text": [
            "True\n"
          ]
        }
      ]
    },
    {
      "cell_type": "markdown",
      "metadata": {
        "id": "2Kp-dFVGn2Kb"
      },
      "source": [
        "## <b>C.4. <span style='color:#0B2F9F'>Operator Keanggotaan</span></b>\n",
        "\n",
        "<img src=\"https://designprotechs.com/wp-content/uploads/2018/05/Membership-operator.jpg\" width=70%>"
      ]
    },
    {
      "cell_type": "code",
      "execution_count": null,
      "metadata": {
        "colab": {
          "base_uri": "https://localhost:8080/"
        },
        "id": "d2cHmSfVn2Kb",
        "outputId": "7c09a8c0-4cd6-4892-bf4d-b2e1f8c31c70"
      },
      "outputs": [
        {
          "output_type": "stream",
          "name": "stdout",
          "text": [
            "True\n"
          ]
        }
      ],
      "source": [
        "pernyataan1 = (5 in [1, 2, 3, 4, 5])\n",
        "\n",
        "print(pernyataan1)"
      ]
    },
    {
      "cell_type": "code",
      "source": [
        "pernyataan2 = ('5' in [1, 2, 3, 4, 5])\n",
        "\n",
        "print(pernyataan2)"
      ],
      "metadata": {
        "colab": {
          "base_uri": "https://localhost:8080/"
        },
        "id": "FjoKyw3R_yur",
        "outputId": "3c39946d-bfbd-4df5-8c70-c55207d69fee"
      },
      "execution_count": null,
      "outputs": [
        {
          "output_type": "stream",
          "name": "stdout",
          "text": [
            "False\n"
          ]
        }
      ]
    },
    {
      "cell_type": "markdown",
      "metadata": {
        "id": "UuHh0oZjn2Kb"
      },
      "source": [
        "# <b>D. <span style='color:#E1B12D'>Pengkondisian</span></b>\n",
        "\n",
        "Pengkondisian dalam Python merujuk pada penggunaan struktur kontrol untuk membuat keputusan dalam program. Dengan pengkondisian, kamu bisa menjalankan kode tertentu berdasarkan kondisi yang ditentukan."
      ]
    },
    {
      "cell_type": "markdown",
      "metadata": {
        "id": "LKHWkjsMn2Kb"
      },
      "source": [
        "## <b>D.1. <span style='color:#0B2F9F'>IF</span></b>"
      ]
    },
    {
      "cell_type": "code",
      "execution_count": null,
      "metadata": {
        "id": "EqOVRcrrn2Kc",
        "colab": {
          "base_uri": "https://localhost:8080/"
        },
        "outputId": "8d6e16ed-39b3-42ec-d8cf-14ff90519105"
      },
      "outputs": [
        {
          "output_type": "stream",
          "name": "stdout",
          "text": [
            "Ya cocok\n"
          ]
        }
      ],
      "source": [
        "x = 5\n",
        "\n",
        "if (x == 5):\n",
        "  print('Ya cocok')"
      ]
    },
    {
      "cell_type": "code",
      "source": [
        "nama = input('Masukeun nama anda: ')\n",
        "\n",
        "if (nama == 'Paduka'):\n",
        "    print('Sendiko Dawuh')"
      ],
      "metadata": {
        "colab": {
          "base_uri": "https://localhost:8080/"
        },
        "id": "OD8wXfzwBwfB",
        "outputId": "cb38331d-2d2c-4db9-f55b-db7064d49d39"
      },
      "execution_count": null,
      "outputs": [
        {
          "output_type": "stream",
          "name": "stdout",
          "text": [
            "Masukeun nama anda: Paduka\n",
            "Sendiko Dawuh\n"
          ]
        }
      ]
    },
    {
      "cell_type": "markdown",
      "metadata": {
        "id": "xOP0LLYxn2Kc"
      },
      "source": [
        "## <b>D.2. <span style='color:#0B2F9F'>IF-ELSE</span></b>"
      ]
    },
    {
      "cell_type": "code",
      "execution_count": null,
      "metadata": {
        "id": "_PVJSjegn2Kc",
        "colab": {
          "base_uri": "https://localhost:8080/"
        },
        "outputId": "919f82f0-461b-419e-c6ae-aed29e674ee3"
      },
      "outputs": [
        {
          "output_type": "stream",
          "name": "stdout",
          "text": [
            "Masukeun nama anda: 1234567\n",
            "Laksanakan Titah!\n"
          ]
        }
      ],
      "source": [
        "nama = input('Masukeun nama anda: ')\n",
        "\n",
        "if (nama == 'Paduka'):\n",
        "    print('Sendiko Dawuh')\n",
        "else:\n",
        "    print('Laksanakan Titah!')"
      ]
    },
    {
      "cell_type": "markdown",
      "metadata": {
        "id": "mWm5hD14n2Kc"
      },
      "source": [
        "## <b>D.3. <span style='color:#0B2F9F'>IF-ELIF-ELSE</span></b>"
      ]
    },
    {
      "cell_type": "code",
      "execution_count": null,
      "metadata": {
        "id": "Jt9RbXP_n2Kc"
      },
      "outputs": [],
      "source": [
        "nama = input('Masukeun nama anda: ')\n",
        "\n",
        "if (nama == 'Paduka'):\n",
        "    print('Sendiko Dawuh')\n",
        "elif (nama == 'Panglima'):\n",
        "    print('Siap Laksanakan!')\n",
        "else:\n",
        "    print('Laksanakan Titah!')"
      ]
    },
    {
      "cell_type": "code",
      "source": [
        "nama = input('Masukeun nama anda: ')\n",
        "\n",
        "if (nama == 'Paduka'):\n",
        "    print('Sendiko Dawuh')\n",
        "    print('Nggeh Paduka')\n",
        "elif (nama == 'Panglima'):\n",
        "    print('Siap Laksanakan!')\n",
        "elif (nama == 'Permaisuri'):\n",
        "    print('Kipasin Paduka Dong!')\n",
        "else:\n",
        "    print('Laksanakan Titah!')"
      ],
      "metadata": {
        "colab": {
          "base_uri": "https://localhost:8080/"
        },
        "id": "cb0E6q1aE1if",
        "outputId": "46cce851-d8bb-4ac4-b398-02654607aee3"
      },
      "execution_count": null,
      "outputs": [
        {
          "output_type": "stream",
          "name": "stdout",
          "text": [
            "Masukeun nama anda: Paduka\n",
            "Sendiko Dawuh\n",
            "Nggeh Paduka\n"
          ]
        }
      ]
    },
    {
      "cell_type": "code",
      "source": [
        "# Input suatu nilai\n",
        "# Jika input berupa angka maka tampilkan angka = ...\n",
        "# Jika tidak maka tampilkan 'Input Salah'\n",
        "\n",
        "nilai = input(\"Masukkan suatu nilai: \")\n",
        "\n",
        "if nilai.isdigit():\n",
        "  print(f\"Angka = {nilai}\")\n",
        "else:\n",
        "  print(\"Input Salah\")"
      ],
      "metadata": {
        "colab": {
          "base_uri": "https://localhost:8080/"
        },
        "id": "FV7bYRYeFPyQ",
        "outputId": "2dfd9e64-40a6-4183-c414-0a2d0327124c"
      },
      "execution_count": null,
      "outputs": [
        {
          "output_type": "stream",
          "name": "stdout",
          "text": [
            "Masukkan suatu nilai: -8\n",
            "Input Salah\n"
          ]
        }
      ]
    },
    {
      "cell_type": "code",
      "source": [
        "a = input('Masukkan nilai: ')\n",
        "\n",
        "if a.isdigit():\n",
        "    a = int(a)\n",
        "    print(a)\n",
        "else:\n",
        "    print('Bukan angka')"
      ],
      "metadata": {
        "colab": {
          "base_uri": "https://localhost:8080/"
        },
        "id": "N8Mphg-xHxPY",
        "outputId": "50a4cb28-f51f-4b10-b650-87600e9a56e9"
      },
      "execution_count": null,
      "outputs": [
        {
          "output_type": "stream",
          "name": "stdout",
          "text": [
            "Masukkan nilai: -5\n",
            "Bukan angka\n"
          ]
        }
      ]
    },
    {
      "cell_type": "code",
      "source": [
        "nilai = input('Masukkan nilai: ')\n",
        "\n",
        "if (nilai == '999'):\n",
        "  print(nilai)\n",
        "else:\n",
        "  print('Input Salah')"
      ],
      "metadata": {
        "colab": {
          "base_uri": "https://localhost:8080/"
        },
        "id": "1xrHTCrcIQiX",
        "outputId": "21e72619-1a48-4ecc-ee4c-6f6d8d944c00"
      },
      "execution_count": null,
      "outputs": [
        {
          "output_type": "stream",
          "name": "stdout",
          "text": [
            "Masukkan nilai: 12\n",
            "Input Salah\n"
          ]
        }
      ]
    },
    {
      "cell_type": "code",
      "source": [
        "angka = input(\"Masukkan angka: \")\n",
        "\n",
        "if angka.replace('.', '', 1).isdigit() or (angka[0] == '-' and angka[1:].replace('.', '', 1).isdigit()):\n",
        "    print(f\"{angka} adalah angka.\")\n",
        "else:\n",
        "    print(\"bukan angka.\")"
      ],
      "metadata": {
        "colab": {
          "base_uri": "https://localhost:8080/"
        },
        "id": "My3GffWGLN5A",
        "outputId": "060ac70d-257b-42b5-b063-5ac80301952c"
      },
      "execution_count": null,
      "outputs": [
        {
          "output_type": "stream",
          "name": "stdout",
          "text": [
            "Masukkan angka: 4a\n",
            "bukan angka.\n"
          ]
        }
      ]
    },
    {
      "cell_type": "code",
      "source": [
        "a = input('Masukkan nilai: ')\n",
        "\n",
        "try:\n",
        "\n",
        "    a = float(a)\n",
        "    if isinstance(a, float):\n",
        "        print(f'Angka = {a}')\n",
        "    else:\n",
        "        print('Input salah')\n",
        "\n",
        "except ValueError:\n",
        "    print('Input salah nih!')"
      ],
      "metadata": {
        "colab": {
          "base_uri": "https://localhost:8080/"
        },
        "id": "U0ybKVytNBQ7",
        "outputId": "fd197baa-fe04-4add-9573-44e3e0915e0b"
      },
      "execution_count": null,
      "outputs": [
        {
          "output_type": "stream",
          "name": "stdout",
          "text": [
            "Masukkan nilai: s\n",
            "Input salah nih!\n"
          ]
        }
      ]
    },
    {
      "cell_type": "code",
      "source": [
        "a = float(input('Masukkan nilai: '))"
      ],
      "metadata": {
        "colab": {
          "base_uri": "https://localhost:8080/",
          "height": 156
        },
        "id": "jprGFknMQa2v",
        "outputId": "50930b23-254e-4dba-ead7-65e3be8fe905"
      },
      "execution_count": null,
      "outputs": [
        {
          "name": "stdout",
          "output_type": "stream",
          "text": [
            "Masukkan nilai: s\n"
          ]
        },
        {
          "output_type": "error",
          "ename": "ValueError",
          "evalue": "could not convert string to float: 's'",
          "traceback": [
            "\u001b[0;31m---------------------------------------------------------------------------\u001b[0m",
            "\u001b[0;31mValueError\u001b[0m                                Traceback (most recent call last)",
            "\u001b[0;32m<ipython-input-47-ab35e5c92a40>\u001b[0m in \u001b[0;36m<cell line: 1>\u001b[0;34m()\u001b[0m\n\u001b[0;32m----> 1\u001b[0;31m \u001b[0ma\u001b[0m \u001b[0;34m=\u001b[0m \u001b[0mfloat\u001b[0m\u001b[0;34m(\u001b[0m\u001b[0minput\u001b[0m\u001b[0;34m(\u001b[0m\u001b[0;34m'Masukkan nilai: '\u001b[0m\u001b[0;34m)\u001b[0m\u001b[0;34m)\u001b[0m\u001b[0;34m\u001b[0m\u001b[0;34m\u001b[0m\u001b[0m\n\u001b[0m",
            "\u001b[0;31mValueError\u001b[0m: could not convert string to float: 's'"
          ]
        }
      ]
    },
    {
      "cell_type": "code",
      "source": [
        "try:\n",
        "    a = float(input('Masukkan nilai: '))\n",
        "    if isinstance(a, float):\n",
        "        print(f'Angka = {a}')\n",
        "except ValueError:\n",
        "    print('Input salah nih!')"
      ],
      "metadata": {
        "colab": {
          "base_uri": "https://localhost:8080/"
        },
        "id": "J70SeCcFPngq",
        "outputId": "56fdca46-9f62-438a-bfbd-c01cb6533343"
      },
      "execution_count": null,
      "outputs": [
        {
          "output_type": "stream",
          "name": "stdout",
          "text": [
            "Masukkan nilai: s\n",
            "Input salah nih!\n"
          ]
        }
      ]
    },
    {
      "cell_type": "code",
      "source": [
        "a = input('Masukkan nilai: ')\n",
        "\n",
        "float(a)"
      ],
      "metadata": {
        "colab": {
          "base_uri": "https://localhost:8080/",
          "height": 190
        },
        "id": "P2FY39ZmPMzX",
        "outputId": "fa5f22ee-c7e7-426d-e490-786aa6af61ed"
      },
      "execution_count": null,
      "outputs": [
        {
          "name": "stdout",
          "output_type": "stream",
          "text": [
            "Masukkan nilai: s\n"
          ]
        },
        {
          "output_type": "error",
          "ename": "ValueError",
          "evalue": "could not convert string to float: 's'",
          "traceback": [
            "\u001b[0;31m---------------------------------------------------------------------------\u001b[0m",
            "\u001b[0;31mValueError\u001b[0m                                Traceback (most recent call last)",
            "\u001b[0;32m<ipython-input-39-ab2a2a6eb332>\u001b[0m in \u001b[0;36m<cell line: 3>\u001b[0;34m()\u001b[0m\n\u001b[1;32m      1\u001b[0m \u001b[0ma\u001b[0m \u001b[0;34m=\u001b[0m \u001b[0minput\u001b[0m\u001b[0;34m(\u001b[0m\u001b[0;34m'Masukkan nilai: '\u001b[0m\u001b[0;34m)\u001b[0m\u001b[0;34m\u001b[0m\u001b[0;34m\u001b[0m\u001b[0m\n\u001b[1;32m      2\u001b[0m \u001b[0;34m\u001b[0m\u001b[0m\n\u001b[0;32m----> 3\u001b[0;31m \u001b[0mfloat\u001b[0m\u001b[0;34m(\u001b[0m\u001b[0ma\u001b[0m\u001b[0;34m)\u001b[0m\u001b[0;34m\u001b[0m\u001b[0;34m\u001b[0m\u001b[0m\n\u001b[0m",
            "\u001b[0;31mValueError\u001b[0m: could not convert string to float: 's'"
          ]
        }
      ]
    },
    {
      "cell_type": "code",
      "source": [
        "a = input('Masukkan nilai: ')\n",
        "\n",
        "try:\n",
        "  float(a)\n",
        "except:\n",
        "  print('Yah error')"
      ],
      "metadata": {
        "colab": {
          "base_uri": "https://localhost:8080/"
        },
        "id": "RHvDYDr2OFPv",
        "outputId": "d3131a4b-e10e-47c9-d3be-b5d7c47b2945"
      },
      "execution_count": null,
      "outputs": [
        {
          "output_type": "stream",
          "name": "stdout",
          "text": [
            "Masukkan nilai: s\n",
            "Yah error\n"
          ]
        }
      ]
    },
    {
      "cell_type": "code",
      "source": [
        "a = input('Masukkan nilai: ')\n",
        "\n",
        "if isinstance(a, float):\n",
        "    print(f'Angka = {a}')\n",
        "else:\n",
        "    print('Input salah')"
      ],
      "metadata": {
        "id": "4mKeyyeeOoGe"
      },
      "execution_count": null,
      "outputs": []
    },
    {
      "cell_type": "markdown",
      "metadata": {
        "id": "mOnoPAS1n2Kc"
      },
      "source": [
        "<a id=\"E\"></a>\n",
        "# <b>E. <span style='color:#E1B12D'>Pengulangan</span></b>"
      ]
    },
    {
      "cell_type": "markdown",
      "metadata": {
        "id": "9o17F8Kan2Kc"
      },
      "source": [
        "## <b>E.1. <span style='color:#0B2F9F'>RANGE</span></b>\n",
        "\n",
        "range(start, stop, step)"
      ]
    },
    {
      "cell_type": "code",
      "execution_count": null,
      "metadata": {
        "id": "kv_Dzx67n2Kc",
        "colab": {
          "base_uri": "https://localhost:8080/"
        },
        "outputId": "127cef88-2acb-4123-e706-9e92943992b4"
      },
      "outputs": [
        {
          "output_type": "execute_result",
          "data": {
            "text/plain": [
              "range(2, 8)"
            ]
          },
          "metadata": {},
          "execution_count": 26
        }
      ],
      "source": [
        "range(2, 8, 1)"
      ]
    },
    {
      "cell_type": "markdown",
      "metadata": {
        "id": "eCegnCdxn2Kc"
      },
      "source": [
        "## <b>E.2. <span style='color:#0B2F9F'>FOR</span></b>"
      ]
    },
    {
      "cell_type": "code",
      "execution_count": null,
      "metadata": {
        "id": "Bc01a7Jfn2Kd",
        "colab": {
          "base_uri": "https://localhost:8080/"
        },
        "outputId": "4a86b72d-3454-4815-f8ad-fc7bb9e661f4"
      },
      "outputs": [
        {
          "output_type": "stream",
          "name": "stdout",
          "text": [
            "2\n",
            "3\n",
            "4\n",
            "5\n",
            "6\n",
            "7\n"
          ]
        }
      ],
      "source": [
        "for i in range(2, 8, 1):\n",
        "    print(i)"
      ]
    },
    {
      "cell_type": "code",
      "source": [
        "for i in range(3, 10, 2):\n",
        "    print(i)"
      ],
      "metadata": {
        "colab": {
          "base_uri": "https://localhost:8080/"
        },
        "id": "dZoulWvWMoSZ",
        "outputId": "b41e87f5-5618-4d75-ec31-f31c90987de0"
      },
      "execution_count": null,
      "outputs": [
        {
          "output_type": "stream",
          "name": "stdout",
          "text": [
            "3\n",
            "5\n",
            "7\n",
            "9\n"
          ]
        }
      ]
    },
    {
      "cell_type": "code",
      "source": [
        "for i in range(8, -13, -5):\n",
        "    print(i)"
      ],
      "metadata": {
        "colab": {
          "base_uri": "https://localhost:8080/"
        },
        "id": "OzPCzfsPRubT",
        "outputId": "1105b88a-faa7-4d79-a415-bbdd999758da"
      },
      "execution_count": null,
      "outputs": [
        {
          "output_type": "stream",
          "name": "stdout",
          "text": [
            "8\n",
            "3\n",
            "-2\n",
            "-7\n",
            "-12\n"
          ]
        }
      ]
    },
    {
      "cell_type": "code",
      "source": [
        "for i in range(9):\n",
        "    print(i)"
      ],
      "metadata": {
        "colab": {
          "base_uri": "https://localhost:8080/"
        },
        "id": "d_n0KGH7Ti5w",
        "outputId": "7cb84033-248b-481e-ffb1-7ee991e2e79b"
      },
      "execution_count": null,
      "outputs": [
        {
          "output_type": "stream",
          "name": "stdout",
          "text": [
            "0\n",
            "1\n",
            "2\n",
            "3\n",
            "4\n",
            "5\n",
            "6\n",
            "7\n",
            "8\n"
          ]
        }
      ]
    },
    {
      "cell_type": "code",
      "source": [
        "for i in range(0, 15, 1):\n",
        "    if (i % 2 == 0):\n",
        "      print(i)"
      ],
      "metadata": {
        "colab": {
          "base_uri": "https://localhost:8080/"
        },
        "id": "KXaltpooT8gG",
        "outputId": "67b46ae4-37b2-4d88-aca7-a306c77e68e1"
      },
      "execution_count": null,
      "outputs": [
        {
          "output_type": "stream",
          "name": "stdout",
          "text": [
            "0\n",
            "2\n",
            "4\n",
            "6\n",
            "8\n",
            "10\n",
            "12\n",
            "14\n"
          ]
        }
      ]
    },
    {
      "cell_type": "markdown",
      "source": [
        "# <b>F. <span style='color:#E1B12D'>Iterables</span></b>"
      ],
      "metadata": {
        "id": "CMEGxVbuUmY7"
      }
    },
    {
      "cell_type": "markdown",
      "source": [
        "## <b>F.1. <span style='color:#0B2F9F'>LIST</span></b>"
      ],
      "metadata": {
        "id": "eqPxGY3uUwyc"
      }
    },
    {
      "cell_type": "code",
      "source": [
        "umur_pandu = 124\n",
        "umur_afif = 78\n",
        "umur_afin = 90\n",
        "umur_paduka = 17"
      ],
      "metadata": {
        "id": "4SO4AsUwU1K5"
      },
      "execution_count": null,
      "outputs": []
    },
    {
      "cell_type": "code",
      "source": [
        "umur_kompi2 = [124, 78, 90, 17]"
      ],
      "metadata": {
        "id": "Dm__PJmxVOgx"
      },
      "execution_count": null,
      "outputs": []
    },
    {
      "cell_type": "code",
      "source": [
        "print(f'List umur = {umur_kompi2} dengan tipe data {type(umur_kompi2)}')"
      ],
      "metadata": {
        "colab": {
          "base_uri": "https://localhost:8080/"
        },
        "id": "VURUNOc6VXjK",
        "outputId": "f90a84cd-95b3-4e77-88bf-6da9cb5069cc"
      },
      "execution_count": null,
      "outputs": [
        {
          "output_type": "stream",
          "name": "stdout",
          "text": [
            "List umur = [124, 78, 90, 17] dengan tipe data <class 'list'>\n"
          ]
        }
      ]
    },
    {
      "cell_type": "code",
      "source": [
        "daftar_aldi = [50, 'Mancing Mania', True, [1, 2, 5]]\n",
        "\n",
        "print(f'List aldi = {daftar_aldi} dengan tipe data {type(daftar_aldi)}')"
      ],
      "metadata": {
        "colab": {
          "base_uri": "https://localhost:8080/"
        },
        "id": "WkflXr_wVuWR",
        "outputId": "9bbabde9-e593-4c18-eb52-2feda19d6899"
      },
      "execution_count": null,
      "outputs": [
        {
          "output_type": "stream",
          "name": "stdout",
          "text": [
            "List aldi = [50, 'Mancing Mania', True, [1, 2, 5]] dengan tipe data <class 'list'>\n"
          ]
        }
      ]
    },
    {
      "cell_type": "code",
      "source": [
        "umur_kompi2 = [124, 78, 90, 17, 76, 89, 11, 14, 17]\n",
        "\n",
        "umur_index_2 = umur_kompi2[2]\n",
        "\n",
        "print(umur_index_2)"
      ],
      "metadata": {
        "colab": {
          "base_uri": "https://localhost:8080/"
        },
        "id": "6pYrz0H3Wjc-",
        "outputId": "808d9beb-40e8-4e9b-ae46-53643d4f5217"
      },
      "execution_count": null,
      "outputs": [
        {
          "output_type": "stream",
          "name": "stdout",
          "text": [
            "90\n"
          ]
        }
      ]
    },
    {
      "cell_type": "code",
      "source": [
        "umur_kompi2 = [124, 78, 90, 17, 76, 89, 11, 14, 17]\n",
        "\n",
        "umur_index_terbelakang = umur_kompi2[-1]\n",
        "\n",
        "print(umur_index_terbelakang)"
      ],
      "metadata": {
        "colab": {
          "base_uri": "https://localhost:8080/"
        },
        "id": "LTukzUC-W7X5",
        "outputId": "1a173428-c399-483e-b908-dd6d42ca0cba"
      },
      "execution_count": null,
      "outputs": [
        {
          "output_type": "stream",
          "name": "stdout",
          "text": [
            "17\n"
          ]
        }
      ]
    },
    {
      "cell_type": "markdown",
      "source": [
        "<img src=\"https://miro.medium.com/v2/resize:fit:1400/format:webp/0*R5KsG5V_dH2aXmHF\" width = \"50%\">"
      ],
      "metadata": {
        "id": "KXcyu_-YXRlc"
      }
    },
    {
      "cell_type": "code",
      "source": [
        "letters = ['a', 'b', 'c', 'd']\n",
        "print(letters)"
      ],
      "metadata": {
        "colab": {
          "base_uri": "https://localhost:8080/"
        },
        "id": "iYhOXVweXiNT",
        "outputId": "ffc3f1cd-218b-4395-b8e7-721b128f6d15"
      },
      "execution_count": null,
      "outputs": [
        {
          "output_type": "stream",
          "name": "stdout",
          "text": [
            "['a', 'b', 'c', 'd']\n"
          ]
        }
      ]
    },
    {
      "cell_type": "code",
      "source": [
        "letters.append('e')\n",
        "print(letters)"
      ],
      "metadata": {
        "colab": {
          "base_uri": "https://localhost:8080/"
        },
        "id": "4XQQ35TaXzy0",
        "outputId": "df268d78-653e-47d6-a7ee-fea9c06fdaa4"
      },
      "execution_count": null,
      "outputs": [
        {
          "output_type": "stream",
          "name": "stdout",
          "text": [
            "['a', 'b', 'c', 'd', 'e']\n"
          ]
        }
      ]
    },
    {
      "cell_type": "code",
      "source": [
        "umur_kompi2 = [15, 78, 90, 38]\n",
        "print(umur_kompi2)\n",
        "\n",
        "umur_kompi2.sort()\n",
        "print(umur_kompi2)"
      ],
      "metadata": {
        "colab": {
          "base_uri": "https://localhost:8080/"
        },
        "id": "ktbyWTaBYARz",
        "outputId": "ffa2327c-1f49-49e6-d0b5-f6f3bf16b06f"
      },
      "execution_count": null,
      "outputs": [
        {
          "output_type": "stream",
          "name": "stdout",
          "text": [
            "[15, 78, 90, 38]\n",
            "[15, 38, 78, 90]\n"
          ]
        }
      ]
    },
    {
      "cell_type": "code",
      "source": [
        "umur_kompi2 = ['pe', 'pu', 'pi']\n",
        "print(umur_kompi2)\n",
        "\n",
        "umur_kompi2.sort()\n",
        "print(umur_kompi2)"
      ],
      "metadata": {
        "colab": {
          "base_uri": "https://localhost:8080/"
        },
        "id": "Pro1sE-qYdTl",
        "outputId": "ce34c0ed-5de6-4f7e-9945-ef00cf5e6e70"
      },
      "execution_count": null,
      "outputs": [
        {
          "output_type": "stream",
          "name": "stdout",
          "text": [
            "['pe', 'pu', 'pi']\n",
            "['pe', 'pi', 'pu']\n"
          ]
        }
      ]
    },
    {
      "cell_type": "code",
      "source": [
        "umur_kompi2 = [15, 78, 90, 38]\n",
        "\n",
        "len(umur_kompi2)"
      ],
      "metadata": {
        "id": "0Hm8L7cbYrab",
        "outputId": "04bdcfd0-e386-42f9-9024-0fa7eb039f4b",
        "colab": {
          "base_uri": "https://localhost:8080/"
        }
      },
      "execution_count": null,
      "outputs": [
        {
          "output_type": "execute_result",
          "data": {
            "text/plain": [
              "4"
            ]
          },
          "metadata": {},
          "execution_count": 72
        }
      ]
    },
    {
      "cell_type": "markdown",
      "metadata": {
        "id": "bYqKfhTrn2Kd"
      },
      "source": [
        "---\n",
        "\n",
        "<br>\n",
        "<a href=\"https://www.linkedin.com/in/pandu-giswantoro-abhi-70a1a62a7/\"><img src=\"https://img.shields.io/badge/-© 2024 Pandu Giswantoro Abhi Wiguno-417DAC?style=for-the-badge&logoColor=white\"/></a>"
      ]
    }
  ],
  "metadata": {
    "language_info": {
      "name": "python"
    },
    "colab": {
      "provenance": []
    },
    "kernelspec": {
      "name": "python3",
      "display_name": "Python 3"
    }
  },
  "nbformat": 4,
  "nbformat_minor": 0
}